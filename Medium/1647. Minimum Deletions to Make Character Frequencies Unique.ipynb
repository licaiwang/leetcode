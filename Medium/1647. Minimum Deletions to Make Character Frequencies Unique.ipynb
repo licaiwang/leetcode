{
 "cells": [
  {
   "cell_type": "markdown",
   "metadata": {},
   "source": [
    "## 1647. Minimum Deletions to Make Character Frequencies Unique"
   ]
  },
  {
   "cell_type": "markdown",
   "metadata": {},
   "source": [
    "A string s is called **good** if there are no two different characters in s that have the same **frequency**.\n",
    "\n",
    "Given a string **s**, return the minimum number of characters you need to delete to make **s** good.\n",
    "\n",
    "The **frequency** of a character in a string is the number of times it appears in the string. For example, in the string \"aab\", the frequency of 'a' is 2, while the frequency of 'b' is 1."
   ]
  },
  {
   "cell_type": "code",
   "execution_count": 1,
   "metadata": {},
   "outputs": [],
   "source": [
    "s = \"bbcebab\""
   ]
  },
  {
   "cell_type": "code",
   "execution_count": 2,
   "metadata": {},
   "outputs": [],
   "source": [
    "def delete_one_char(s, position):\n",
    "    return s[:position] + s[position+1:]"
   ]
  },
  {
   "cell_type": "code",
   "execution_count": 3,
   "metadata": {},
   "outputs": [
    {
     "data": {
      "text/plain": [
       "{'a', 'b', 'c', 'e'}"
      ]
     },
     "execution_count": 3,
     "metadata": {},
     "output_type": "execute_result"
    }
   ],
   "source": [
    "chars = set(s)\n",
    "chars"
   ]
  },
  {
   "cell_type": "code",
   "execution_count": 4,
   "metadata": {},
   "outputs": [
    {
     "name": "stdout",
     "output_type": "stream",
     "text": [
      "char b --- freq 4 --- tmp []\n",
      "char c --- freq 1 --- tmp [4]\n",
      "char a --- freq 1 --- tmp [4, 1]\n",
      "need del\n",
      "del bbcebb\n",
      "char e --- freq 1 --- tmp [4, 1, 0]\n",
      "need del\n",
      "del bbcbb\n"
     ]
    },
    {
     "data": {
      "text/plain": [
       "2"
      ]
     },
     "execution_count": 4,
     "metadata": {},
     "output_type": "execute_result"
    }
   ],
   "source": [
    "tmp = []\n",
    "counter = 0\n",
    "for char in chars:\n",
    "    freq = len([x for x in s if x == char])\n",
    "    print(f\"char {char} --- freq {freq} --- tmp {tmp}\")\n",
    "    if freq not in tmp:\n",
    "        tmp.append(freq)\n",
    "    else:\n",
    "        \n",
    "        s = delete_one_char(s,s.index(char))\n",
    "       \n",
    "        while True:\n",
    "            print(\"need del\")\n",
    "            freq -= 1\n",
    "            counter += 1\n",
    "            if freq not in tmp or freq == 0:\n",
    "                tmp.append(freq)\n",
    "                break\n",
    "            \n",
    "            \n",
    "        print(f\"del {s}\")\n",
    "counter"
   ]
  }
 ],
 "metadata": {
  "kernelspec": {
   "display_name": "Python 3",
   "language": "python",
   "name": "python3"
  },
  "language_info": {
   "codemirror_mode": {
    "name": "ipython",
    "version": 3
   },
   "file_extension": ".py",
   "mimetype": "text/x-python",
   "name": "python",
   "nbconvert_exporter": "python",
   "pygments_lexer": "ipython3",
   "version": "3.7.9"
  }
 },
 "nbformat": 4,
 "nbformat_minor": 4
}
