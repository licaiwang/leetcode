{
 "cells": [
  {
   "cell_type": "markdown",
   "metadata": {},
   "source": [
    "## 97. Interleaving String"
   ]
  },
  {
   "cell_type": "markdown",
   "metadata": {},
   "source": [
    "Given strings s1, s2, and s3, find whether s3 is formed by an interleaving of s1 and s2.\n",
    "\n",
    "An interleaving of two strings s and t is a configuration where they are divided into non-empty substrings such that:\n",
    "\n",
    "* s = s1 + s2 + ... + sn\n",
    "* t = t1 + t2 + ... + tm\n",
    "* |n - m| <= 1\n",
    "* The interleaving is s1 + t1 + s2 + t2 + s3 + t3 + ... or t1 + s1 + t2 + s2 + t3 + s3 + ...\n",
    "Note: a + b is the concatenation of strings a and b."
   ]
  },
  {
   "cell_type": "markdown",
   "metadata": {},
   "source": [
    "#### Example 1\n",
    "    Input: s1 = \"aabcc\", s2 = \"dbbca\", s3 = \"aadbbcbcac\"\n",
    "    Output: true"
   ]
  },
  {
   "cell_type": "markdown",
   "metadata": {},
   "source": [
    "#### Example 2\n",
    "    Input: s1 = \"aabcc\", s2 = \"dbbca\", s3 = \"aadbbbaccc\"\n",
    "    Output: false"
   ]
  },
  {
   "cell_type": "markdown",
   "metadata": {},
   "source": [
    "#### Example 3\n",
    "    Input: s1 = \"\", s2 = \"\", s3 = \"\"\n",
    "    Output: true"
   ]
  },
  {
   "cell_type": "code",
   "execution_count": 38,
   "metadata": {},
   "outputs": [],
   "source": [
    "s1 = \"aabcc\"\n",
    "s2 = \"dbbca\"\n",
    "s3 = \"aadbbcbcac\""
   ]
  },
  {
   "cell_type": "code",
   "execution_count": 39,
   "metadata": {},
   "outputs": [],
   "source": [
    "def isInterleave(s1: str, s2: str, s3: str) -> bool:\n",
    "    r, c, l= len(s1), len(s2), len(s3)\n",
    "    if r+c != l:\n",
    "        return False\n",
    "    queue, visited = [(0, 0)], set((0, 0))\n",
    "    while queue:\n",
    "        x, y = queue.pop(0)\n",
    "        if x+y == l:\n",
    "            return True\n",
    "        if x+1 <= r and s1[x] == s3[x+y] and (x+1, y) not in visited:\n",
    "            queue.append((x+1, y)); visited.add((x+1, y))\n",
    "        if y+1 <= c and s2[y] == s3[x+y] and (x, y+1) not in visited:\n",
    "            queue.append((x, y+1)); visited.add((x, y+1))\n",
    "    return False"
   ]
  },
  {
   "cell_type": "code",
   "execution_count": 40,
   "metadata": {},
   "outputs": [
    {
     "data": {
      "text/plain": [
       "True"
      ]
     },
     "execution_count": 40,
     "metadata": {},
     "output_type": "execute_result"
    }
   ],
   "source": [
    "isInterleave(s1,s2,s3)"
   ]
  }
 ],
 "metadata": {
  "kernelspec": {
   "display_name": "Python 3",
   "language": "python",
   "name": "python3"
  },
  "language_info": {
   "codemirror_mode": {
    "name": "ipython",
    "version": 3
   },
   "file_extension": ".py",
   "mimetype": "text/x-python",
   "name": "python",
   "nbconvert_exporter": "python",
   "pygments_lexer": "ipython3",
   "version": "3.7.9"
  }
 },
 "nbformat": 4,
 "nbformat_minor": 4
}
