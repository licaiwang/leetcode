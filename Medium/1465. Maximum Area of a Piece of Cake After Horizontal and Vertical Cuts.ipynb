{
 "cells": [
  {
   "cell_type": "markdown",
   "metadata": {},
   "source": [
    "## 1465. Maximum Area of a Piece of Cake After Horizontal and Vertical Cuts"
   ]
  },
  {
   "cell_type": "markdown",
   "metadata": {},
   "source": [
    "You are given a rectangular cake of size h x w and two arrays of integers horizontalCuts and verticalCuts where:\n",
    "\n",
    "horizontalCuts[i] is the distance from the top of the rectangular cake to the ith horizontal cut and similarly, and\n",
    "verticalCuts[j] is the distance from the left of the rectangular cake to the jth vertical cut.\n",
    "Return the maximum area of a piece of cake after you cut at each horizontal and vertical position provided in the arrays horizontalCuts and verticalCuts. \n",
    "\n",
    "* Since the answer can be a large number, return this modulo 109 + 7."
   ]
  },
  {
   "cell_type": "markdown",
   "metadata": {},
   "source": [
    "![](https://assets.leetcode.com/uploads/2020/05/14/leetcode_max_area_2.png)"
   ]
  },
  {
   "cell_type": "markdown",
   "metadata": {},
   "source": [
    "#### Example 1\n",
    "    Input: h = 5, w = 4, horizontalCuts = [1,2,4], verticalCuts = [1,3]\n",
    "    Output: 4 \n",
    "    Explanation: The figure above represents the given rectangular cake. Red lines are the horizontal and vertical cuts. After you cut the cake, the green piece of cake has the maximum area."
   ]
  },
  {
   "cell_type": "markdown",
   "metadata": {},
   "source": [
    "![](https://assets.leetcode.com/uploads/2020/05/14/leetcode_max_area_3.png)"
   ]
  },
  {
   "cell_type": "markdown",
   "metadata": {},
   "source": [
    "#### Example 2\n",
    "\n",
    "    Input: h = 5, w = 4, horizontalCuts = [3,1], verticalCuts = [1]\n",
    "    Output: 6\n",
    "    Explanation: The figure above represents the given rectangular cake. Red lines are the horizontal and vertical cuts. After you cut the cake, the green and yellow pieces of cake have the maximum area."
   ]
  },
  {
   "cell_type": "code",
   "execution_count": 3,
   "metadata": {},
   "outputs": [],
   "source": [
    "h = 5\n",
    "w = 4\n",
    "horizontalCuts = [3,1]\n",
    "verticalCuts = [1]"
   ]
  },
  {
   "cell_type": "code",
   "execution_count": 4,
   "metadata": {},
   "outputs": [
    {
     "data": {
      "text/plain": [
       "6"
      ]
     },
     "execution_count": 4,
     "metadata": {},
     "output_type": "execute_result"
    }
   ],
   "source": [
    "horizontalCuts.sort()\n",
    "verticalCuts.sort()\n",
    "horizontalCuts.insert(0,0)\n",
    "verticalCuts.insert(0,0)\n",
    "horizontalCuts.append(h)\n",
    "verticalCuts.append(w)\n",
    "max_h,max_w = 1,1\n",
    "for i in range(h):\n",
    "    try:\n",
    "        dis_h = horizontalCuts[i+1] - horizontalCuts[i]\n",
    "    except:\n",
    "        break\n",
    "    if dis_h > max_h:\n",
    "        max_h = dis_h\n",
    "\n",
    "\n",
    "for i in range(w):\n",
    "    try:\n",
    "        dis_w = verticalCuts[i+1] - verticalCuts [i]\n",
    "    except:\n",
    "        break   \n",
    "    if dis_w > max_w:\n",
    "        max_w = dis_w\n",
    "\n",
    "\n",
    "(max_h*max_w)%1000000007"
   ]
  }
 ],
 "metadata": {
  "kernelspec": {
   "display_name": "Python 3",
   "language": "python",
   "name": "python3"
  },
  "language_info": {
   "codemirror_mode": {
    "name": "ipython",
    "version": 3
   },
   "file_extension": ".py",
   "mimetype": "text/x-python",
   "name": "python",
   "nbconvert_exporter": "python",
   "pygments_lexer": "ipython3",
   "version": "3.7.9"
  }
 },
 "nbformat": 4,
 "nbformat_minor": 4
}
