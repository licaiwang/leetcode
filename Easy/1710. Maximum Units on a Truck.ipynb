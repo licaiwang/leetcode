{
 "cells": [
  {
   "cell_type": "markdown",
   "metadata": {},
   "source": [
    "## 1710. Maximum Units on a Truck"
   ]
  },
  {
   "cell_type": "markdown",
   "metadata": {},
   "source": [
    "You are assigned to put some amount of boxes onto one truck. You are given a 2D array boxTypes, where boxTypes\n",
    "\n",
    "    [i] = [numberOfBoxesi, numberOfUnitsPerBoxi]\n",
    "    \n",
    "* numberOfBoxesi is the number of boxes of type i.\n",
    "* numberOfUnitsPerBoxi is the number of units in each box of the type i.\n",
    "\n",
    "You are also given an integer truckSize, which is the maximum number of boxes that can be put on the truck. You can choose any boxes to put on the truck as long as the number of boxes does not exceed truckSize.\n",
    "\n",
    "Return the **maximum** total number of **units** that can be put on the truck."
   ]
  },
  {
   "cell_type": "markdown",
   "metadata": {},
   "source": [
    "#### Example 1\n",
    "    Input: boxTypes = [[1,3],[2,2],[3,1]], truckSize = 4\n",
    "    Output: 8\n",
    "    Explanation: There are:\n",
    "    - 1 box of the first type that contains 3 units.\n",
    "    - 2 boxes of the second type that contain 2 units each.\n",
    "    - 3 boxes of the third type that contain 1 unit each.\n",
    "    You can take all the boxes of the first and second types, and one box of the third type.\n",
    "    The total number of units will be = (1 * 3) + (2 * 2) + (1 * 1) = 8."
   ]
  },
  {
   "cell_type": "markdown",
   "metadata": {},
   "source": [
    "#### Example 2\n",
    "    Input: boxTypes = [[5,10],[2,5],[4,7],[3,9]], truckSize = 10\n",
    "    Output: 91"
   ]
  },
  {
   "cell_type": "code",
   "execution_count": 1,
   "metadata": {},
   "outputs": [],
   "source": [
    "boxTypes = [[1,3],[2,2],[3,1]]\n",
    "truckSize = 4"
   ]
  },
  {
   "cell_type": "code",
   "execution_count": 2,
   "metadata": {},
   "outputs": [],
   "source": [
    "def maximumUnits(boxTypes, truckSize):\n",
    "    amount = 0\n",
    "    boxTypes.sort(key=lambda p: (-p[1], p[0]))\n",
    "    for b in boxTypes:\n",
    "        box, num = b\n",
    "        truckSize -= box \n",
    "        if truckSize < 0:\n",
    "            amount += num*(box+truckSize)\n",
    "            return amount\n",
    "        amount += box*num\n",
    "    return amount"
   ]
  },
  {
   "cell_type": "code",
   "execution_count": 3,
   "metadata": {},
   "outputs": [
    {
     "data": {
      "text/plain": [
       "8"
      ]
     },
     "execution_count": 3,
     "metadata": {},
     "output_type": "execute_result"
    }
   ],
   "source": [
    "maximumUnits(boxTypes, truckSize)"
   ]
  }
 ],
 "metadata": {
  "kernelspec": {
   "display_name": "Python 3",
   "language": "python",
   "name": "python3"
  },
  "language_info": {
   "codemirror_mode": {
    "name": "ipython",
    "version": 3
   },
   "file_extension": ".py",
   "mimetype": "text/x-python",
   "name": "python",
   "nbconvert_exporter": "python",
   "pygments_lexer": "ipython3",
   "version": "3.7.9"
  }
 },
 "nbformat": 4,
 "nbformat_minor": 4
}
