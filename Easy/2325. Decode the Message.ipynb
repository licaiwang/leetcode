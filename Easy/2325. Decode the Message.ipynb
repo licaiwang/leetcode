{
 "cells": [
  {
   "cell_type": "markdown",
   "metadata": {},
   "source": [
    "## 2325. Decode the Message"
   ]
  },
  {
   "cell_type": "markdown",
   "metadata": {},
   "source": [
    "You are given the strings key and message, which represent a cipher key and a secret message, respectively. The steps to decode message are as follows:\n",
    "\n",
    "1. Use the first appearance of all 26 lowercase English letters in key as the order of the substitution table.\n",
    "2. Align the substitution table with the regular English alphabet.\n",
    "3. Each letter in message is then substituted using the table.\n",
    "4. Spaces ' ' are transformed to themselves.\n",
    "* For example, given key = \"happy boy\" (actual key would have at least one instance of each letter in the alphabet), we have the partial substitution table of ('h' -> 'a', 'a' -> 'b', 'p' -> 'c', 'y' -> 'd', 'b' -> 'e', 'o' -> 'f').\n",
    "\n",
    "Return the decoded message."
   ]
  },
  {
   "cell_type": "code",
   "execution_count": 1,
   "metadata": {},
   "outputs": [],
   "source": [
    "key = \"eljuxhpwnyrdgtqkviszcfmabo\"\n",
    "message = \"zwx hnfx lqantp mnoeius ycgk vcnjrdb\""
   ]
  },
  {
   "cell_type": "code",
   "execution_count": 2,
   "metadata": {},
   "outputs": [
    {
     "data": {
      "text/plain": [
       "'the five boxing wizards jump quickly'"
      ]
     },
     "execution_count": 2,
     "metadata": {},
     "output_type": "execute_result"
    }
   ],
   "source": [
    "allign = \"abcdefghijklmnopqrstuvwxyz\"\n",
    "key = [i for n, i in enumerate(key) if i not in key[:n]]\n",
    "key = \"\".join(key).replace(\" \",\"\")\n",
    "code = \"\"\n",
    "for mes in message:\n",
    "    if mes == \" \":\n",
    "        code += \" \"\n",
    "    else:\n",
    "        code += allign[key.index(mes)]\n",
    "code"
   ]
  }
 ],
 "metadata": {
  "kernelspec": {
   "display_name": "Python 3",
   "language": "python",
   "name": "python3"
  },
  "language_info": {
   "codemirror_mode": {
    "name": "ipython",
    "version": 3
   },
   "file_extension": ".py",
   "mimetype": "text/x-python",
   "name": "python",
   "nbconvert_exporter": "python",
   "pygments_lexer": "ipython3",
   "version": "3.7.9"
  }
 },
 "nbformat": 4,
 "nbformat_minor": 4
}
