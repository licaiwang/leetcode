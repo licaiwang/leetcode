{
 "cells": [
  {
   "cell_type": "markdown",
   "metadata": {},
   "source": [
    "## 717. 1-bit and 2-bit Characters"
   ]
  },
  {
   "cell_type": "markdown",
   "metadata": {},
   "source": [
    "We have two special characters:\n",
    "\n",
    "The first character can be represented by one bit 0.\n",
    "The second character can be represented by two bits (10 or 11).\n",
    "Given a binary array bits that ends with 0, return true if the last character must be a one-bit character."
   ]
  },
  {
   "cell_type": "markdown",
   "metadata": {},
   "source": [
    "#### Example 1\n",
    "    Input: bits = [1,0,0]\n",
    "    Output: true\n",
    "    Explanation: The only way to decode it is two-bit character and one-bit character.\n",
    "    So the last character is one-bit character."
   ]
  },
  {
   "cell_type": "markdown",
   "metadata": {},
   "source": [
    "#### Example 2\n",
    "    Input: bits = [1,1,1,0]\n",
    "    Output: false\n",
    "    Explanation: The only way to decode it is two-bit character and two-bit character.\n",
    "    So the last character is not one-bit character."
   ]
  },
  {
   "cell_type": "code",
   "execution_count": 35,
   "metadata": {},
   "outputs": [],
   "source": [
    "bits = [1,1,1,0]"
   ]
  },
  {
   "cell_type": "code",
   "execution_count": 37,
   "metadata": {},
   "outputs": [],
   "source": [
    "def isOneBitCharacter(bits):\n",
    "    flag = True\n",
    "    two_bit = []\n",
    "    for bit in bits: \n",
    "        if bit == 0 and 1 not in two_bit:\n",
    "            flag = True\n",
    "        else:\n",
    "            two_bit.append(1)\n",
    "        if len(two_bit) == 2:\n",
    "            flag = False\n",
    "            two_bit = []\n",
    "    return flag"
   ]
  },
  {
   "cell_type": "code",
   "execution_count": 39,
   "metadata": {},
   "outputs": [
    {
     "data": {
      "text/plain": [
       "False"
      ]
     },
     "execution_count": 39,
     "metadata": {},
     "output_type": "execute_result"
    }
   ],
   "source": [
    "isOneBitCharacter(bits)"
   ]
  }
 ],
 "metadata": {
  "kernelspec": {
   "display_name": "Python 3",
   "language": "python",
   "name": "python3"
  },
  "language_info": {
   "codemirror_mode": {
    "name": "ipython",
    "version": 3
   },
   "file_extension": ".py",
   "mimetype": "text/x-python",
   "name": "python",
   "nbconvert_exporter": "python",
   "pygments_lexer": "ipython3",
   "version": "3.7.9"
  }
 },
 "nbformat": 4,
 "nbformat_minor": 4
}
