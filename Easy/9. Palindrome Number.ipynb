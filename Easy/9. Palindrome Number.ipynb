{
 "cells": [
  {
   "cell_type": "markdown",
   "metadata": {},
   "source": [
    "## 9. Palindrome Number"
   ]
  },
  {
   "cell_type": "markdown",
   "metadata": {},
   "source": [
    "Given an integer x, return true if x is palindrome integer.\n",
    "\n",
    "An integer is a palindrome when it reads the same backward as forward.\n",
    "\n",
    "For example, 121 is a palindrome while 123 is not."
   ]
  },
  {
   "cell_type": "markdown",
   "metadata": {},
   "source": [
    "#### Example 1\n",
    "    Input: x = 121\n",
    "    Output: true\n",
    "    Explanation: 121 reads as 121 from left to right and from right to left."
   ]
  },
  {
   "cell_type": "markdown",
   "metadata": {},
   "source": [
    "#### Example 2\n",
    "    Input: x = -121\n",
    "    Output: false\n",
    "    Explanation: From left to right, it reads -121. From right to left, it becomes 121-. Therefore it is not a palindrome."
   ]
  },
  {
   "cell_type": "markdown",
   "metadata": {},
   "source": [
    "#### Example 3\n",
    "    Input: x = 10\n",
    "    Output: false\n",
    "    Explanation: Reads 01 from right to left. Therefore it is not a palindrome."
   ]
  },
  {
   "cell_type": "code",
   "execution_count": 2,
   "metadata": {},
   "outputs": [],
   "source": [
    "x = 10"
   ]
  },
  {
   "cell_type": "code",
   "execution_count": 3,
   "metadata": {},
   "outputs": [],
   "source": [
    "def isPalindrome(x):\n",
    "        x = list(str(x))\n",
    "        if x[0] == \"-\":\n",
    "            return False\n",
    "        tmp = x.copy()\n",
    "        x.reverse()\n",
    "        if x == tmp:\n",
    "            return True\n",
    "        return False"
   ]
  },
  {
   "cell_type": "code",
   "execution_count": 4,
   "metadata": {},
   "outputs": [
    {
     "data": {
      "text/plain": [
       "False"
      ]
     },
     "execution_count": 4,
     "metadata": {},
     "output_type": "execute_result"
    }
   ],
   "source": [
    "isPalindrome(x)"
   ]
  }
 ],
 "metadata": {
  "kernelspec": {
   "display_name": "Python 3",
   "language": "python",
   "name": "python3"
  },
  "language_info": {
   "codemirror_mode": {
    "name": "ipython",
    "version": 3
   },
   "file_extension": ".py",
   "mimetype": "text/x-python",
   "name": "python",
   "nbconvert_exporter": "python",
   "pygments_lexer": "ipython3",
   "version": "3.7.9"
  }
 },
 "nbformat": 4,
 "nbformat_minor": 4
}
