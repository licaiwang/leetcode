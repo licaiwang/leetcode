{
 "cells": [
  {
   "cell_type": "markdown",
   "metadata": {},
   "source": [
    "## 859. Buddy Strings"
   ]
  },
  {
   "cell_type": "markdown",
   "metadata": {},
   "source": [
    "Given two strings s and goal, return true if you can swap two letters in s so the result is equal to goal, otherwise, return false.\n",
    "\n",
    "Swapping letters is defined as taking two indices i and j (0-indexed) such that i != j and swapping the characters at s[i] and s[j].\n",
    "\n",
    "* For example, swapping at indices 0 and 2 in \"abcd\" results in \"cbad\"."
   ]
  },
  {
   "cell_type": "markdown",
   "metadata": {},
   "source": [
    "#### Example 1\n",
    "    Input: s = \"ab\", goal = \"ba\"\n",
    "    Output: true\n",
    "    Explanation: You can swap s[0] = 'a' and s[1] = 'b' to get \"ba\", which is equal to goal"
   ]
  },
  {
   "cell_type": "markdown",
   "metadata": {},
   "source": [
    "#### Example 2\n",
    "    Input: s = \"ab\", goal = \"ab\"\n",
    "    Output: false\n",
    "    Explanation: The only letters you can swap are s[0] = 'a' and s[1] = 'b', which results in \"ba\" != goal"
   ]
  },
  {
   "cell_type": "markdown",
   "metadata": {},
   "source": [
    "#### Example 3\n",
    "    Input: s = \"aa\", goal = \"aa\"\n",
    "    Output: true\n",
    "    Explanation: You can swap s[0] = 'a' and s[1] = 'a' to get \"aa\", which is equal to goal."
   ]
  },
  {
   "cell_type": "code",
   "execution_count": 5,
   "metadata": {},
   "outputs": [],
   "source": [
    "s = \"aa\"\n",
    "goal = \"aa\""
   ]
  },
  {
   "cell_type": "code",
   "execution_count": 6,
   "metadata": {},
   "outputs": [],
   "source": [
    "def buddyStrings(s: str, goal: str) -> bool:\n",
    "        #Case 1: If both strings length not matching, return false\n",
    "        if len(s) != len(goal):\n",
    "            return False\n",
    "        \n",
    "        # Case 2: If both strings are equal but any character repeating more than once, its swappable return true\n",
    "        \n",
    "        if s == goal:\n",
    "            non_repeat = []\n",
    "            f = False\n",
    "            for i in s:\n",
    "                if i not in non_repeat:\n",
    "                    non_repeat.append(i)\n",
    "                else:\n",
    "                    f = True\n",
    "                    break\n",
    "            if f:\n",
    "                return True\n",
    "            else:\n",
    "                return False\n",
    "        \n",
    "        # Case 3: If both different strings and has more than 2 different letter\n",
    "        temp = []\n",
    "        for i in range(len(s)):\n",
    "            if s[i] != goal[i]:\n",
    "                temp.append(i)\n",
    "            else:\n",
    "                continue\n",
    "        if len(temp) != 2:\n",
    "            return False\n",
    "        \n",
    "        # Case 4: Continue from case 3 but check both letters are correctly swapped.\n",
    "        \n",
    "        if s[temp[0]] == goal[temp[1]] and s[temp[1]] == goal[temp[0]]:\n",
    "            return True\n",
    "        return False"
   ]
  },
  {
   "cell_type": "code",
   "execution_count": 7,
   "metadata": {},
   "outputs": [
    {
     "data": {
      "text/plain": [
       "True"
      ]
     },
     "execution_count": 7,
     "metadata": {},
     "output_type": "execute_result"
    }
   ],
   "source": [
    "buddyStrings(s,goal)"
   ]
  }
 ],
 "metadata": {
  "kernelspec": {
   "display_name": "Python 3",
   "language": "python",
   "name": "python3"
  },
  "language_info": {
   "codemirror_mode": {
    "name": "ipython",
    "version": 3
   },
   "file_extension": ".py",
   "mimetype": "text/x-python",
   "name": "python",
   "nbconvert_exporter": "python",
   "pygments_lexer": "ipython3",
   "version": "3.7.9"
  }
 },
 "nbformat": 4,
 "nbformat_minor": 4
}
