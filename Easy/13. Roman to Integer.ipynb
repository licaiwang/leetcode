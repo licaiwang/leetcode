{
 "cells": [
  {
   "cell_type": "markdown",
   "metadata": {},
   "source": [
    "## 13. Roman to Integer"
   ]
  },
  {
   "cell_type": "markdown",
   "metadata": {},
   "source": [
    "Roman numerals are represented by seven different symbols: I, V, X, L, C, D and M."
   ]
  },
  {
   "cell_type": "markdown",
   "metadata": {},
   "source": [
    "| Symbol | Value |\n",
    "|--------|-------|\n",
    "| I      | 1     |\n",
    "| V      | 5     |\n",
    "| X      | 10    |\n",
    "| L      | 50    |\n",
    "| C      | 100   |\n",
    "| D      | 500   |\n",
    "| M      | 1000  |"
   ]
  },
  {
   "cell_type": "markdown",
   "metadata": {},
   "source": [
    "For example, 2 is written as II in Roman numeral, just two ones added together. 12 is written as XII, which is simply X + II. The number 27 is written as XXVII, which is XX + V + II."
   ]
  },
  {
   "cell_type": "markdown",
   "metadata": {},
   "source": [
    "Roman numerals are usually written largest to smallest from left to right. However, the numeral for four is not IIII. Instead, the number four is written as IV. Because the one is before the five we subtract it making four. The same principle applies to the number nine, which is written as IX. There are six instances where subtraction is used:"
   ]
  },
  {
   "cell_type": "markdown",
   "metadata": {},
   "source": [
    "* I can be placed before V (5) and X (10) to make 4 and 9. \n",
    "* X can be placed before L (50) and C (100) to make 40 and 90. \n",
    "* C can be placed before D (500) and M (1000) to make 400 and 900."
   ]
  },
  {
   "cell_type": "markdown",
   "metadata": {},
   "source": [
    "Given a roman numeral, convert it to an integer."
   ]
  },
  {
   "cell_type": "markdown",
   "metadata": {},
   "source": [
    "#### Example 1\n",
    "    Input: s = \"III\"\n",
    "    Output: 3\n",
    "    Explanation: III = 3."
   ]
  },
  {
   "cell_type": "markdown",
   "metadata": {},
   "source": [
    "#### Example 2\n",
    "    Input: s = \"LVIII\"\n",
    "    Output: 58\n",
    "    Explanation: L = 50, V= 5, III = 3."
   ]
  },
  {
   "cell_type": "markdown",
   "metadata": {},
   "source": [
    "#### Example 3\n",
    "    Input: s = \"MCMXCIV\"\n",
    "    Output: 1994\n",
    "    Explanation: M = 1000, CM = 900, XC = 90 and IV = 4."
   ]
  },
  {
   "cell_type": "code",
   "execution_count": 2,
   "metadata": {},
   "outputs": [],
   "source": [
    "s = \"MCMXCIV\""
   ]
  },
  {
   "cell_type": "code",
   "execution_count": 3,
   "metadata": {},
   "outputs": [],
   "source": [
    "def romanToInt(s: str) -> int:\n",
    "        pair = {\n",
    "            'I':1,\n",
    "            'V':5,\n",
    "            'X':10,\n",
    "            'L':50,\n",
    "            'C':100,\n",
    "            'D':500,\n",
    "            'M':1000,\n",
    "        }\n",
    "        special_pair = {\n",
    "            'IV':4,\n",
    "            'IX':9,\n",
    "            'XL':40,\n",
    "            'XC':90,\n",
    "            'CD':400,\n",
    "            'CM':900\n",
    "        }\n",
    "        ans = 0.0\n",
    "        for sp_key in special_pair:\n",
    "            ans += special_pair[sp_key]*s.count(sp_key)\n",
    "            s = s.replace(sp_key,\"\")\n",
    "        for key in pair:\n",
    "            ans += pair[key]*s.count(key)\n",
    "            s = s.replace(key,\"\")\n",
    "        return int(ans)"
   ]
  },
  {
   "cell_type": "code",
   "execution_count": 5,
   "metadata": {},
   "outputs": [
    {
     "data": {
      "text/plain": [
       "1994"
      ]
     },
     "execution_count": 5,
     "metadata": {},
     "output_type": "execute_result"
    }
   ],
   "source": [
    "romanToInt(s)"
   ]
  }
 ],
 "metadata": {
  "kernelspec": {
   "display_name": "Python 3",
   "language": "python",
   "name": "python3"
  },
  "language_info": {
   "codemirror_mode": {
    "name": "ipython",
    "version": 3
   },
   "file_extension": ".py",
   "mimetype": "text/x-python",
   "name": "python",
   "nbconvert_exporter": "python",
   "pygments_lexer": "ipython3",
   "version": "3.7.9"
  }
 },
 "nbformat": 4,
 "nbformat_minor": 4
}
